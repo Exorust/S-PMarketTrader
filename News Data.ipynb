{
 "cells": [
  {
   "cell_type": "code",
   "execution_count": 2,
   "id": "62ed09d1",
   "metadata": {},
   "outputs": [],
   "source": [
    "import polars as pl\n",
    "import requests\n",
    "\n",
    "\n",
    "def fetch_news_data(stock, start_date, end_date,turn):\n",
    "    \"\"\"\n",
    "    Makes an API request and returns the response data.\n",
    "    \n",
    "    :param endpoint: The API endpoint URL.\n",
    "    :param headers: Dictionary containing request headers.\n",
    "    :param params: Dictionary containing query parameters.\n",
    "    :return: Response JSON as a dictionary or None if the request fails.\n",
    "    \"\"\"\n",
    "    if turn:\n",
    "        if end_date:\n",
    "            endpoint = f\"https://www.alphavantage.co/query?function=NEWS_SENTIMENT&tickers={stock}&time_from={start_date}T0130&time_to={end_date}T0130&limit=1000&apikey=ZRX2N0ETMX8N4GOR\"\n",
    "        else:\n",
    "            print(\"65DCZMTJLB2SERT9\")\n",
    "            endpoint = f\"https://www.alphavantage.co/query?function=NEWS_SENTIMENT&tickers={stock}&time_from={start_date}T0130&limit=1000&apikey=MLPIDKVUZKO71B19\"\n",
    "    else:\n",
    "        if end_date:\n",
    "            endpoint = f\"https://www.alphavantage.co/query?function=NEWS_SENTIMENT&tickers={stock}&time_from={start_date}T0130&time_to={end_date}T0130&limit=1000&apikey=LPHO83KMASND8ZJJ\"\n",
    "        else:\n",
    "            endpoint = f\"https://www.alphavantage.co/query?function=NEWS_SENTIMENT&tickers={stock}&time_from={start_date}T0130&limit=1000&apikey=47WWMCYJI8DEB3KR\"\n",
    "    response = requests.get(endpoint)\n",
    "    if response.status_code == 200:\n",
    "        return response.json()\n",
    "    else:\n",
    "        print(f\"Failed to fetch data: {response.status_code}\")\n",
    "        return None\n",
    "\n",
    "def convert_to_dataframe(news_items):\n",
    "    \"\"\"\n",
    "    Converts a list of news items into a Polars DataFrame and extracts the date.\n",
    "    \n",
    "    :param news_items: List of news items.\n",
    "    :return: A Polars DataFrame with an added 'date' column.\n",
    "    \"\"\"\n",
    "    news_items = news_items.get(\"feed\", [])\n",
    "    if news_items:\n",
    "        df = pl.DataFrame(news_items)\n",
    "        df = df.with_columns(pl.col(\"time_published\").str.slice(0, 8).alias(\"date\"))\n",
    "        return df\n",
    "    return pl.DataFrame()\n",
    "\n",
    "def aggregate_news_data(stocks, start_date, end_date, turn):\n",
    "    \"\"\"\n",
    "    Fetches and aggregates news data for a specified number of API calls.\n",
    "     \n",
    "    :param num_calls: Number of API calls to make.\n",
    "    :param endpoint: The API endpoint URL.\n",
    "    :param headers: Dictionary containing request headers.\n",
    "    :param params: Dictionary containing query parameters.\n",
    "    :return: A Polars DataFrame containing aggregated news data.\n",
    "    \"\"\"\n",
    "    df_list = []\n",
    "    for stock in stocks:\n",
    "        # Fetch the news data\n",
    "        news_data = fetch_news_data(stock, start_date, end_date, turn)\n",
    "        \n",
    "        if news_data:\n",
    "            # Convert to DataFrame and append to the list\n",
    "            df = convert_to_dataframe(news_data)\n",
    "            if df.height != 0:\n",
    "                df_list.append(df)\n",
    "\n",
    "    # Concatenate all DataFrames into a single DataFrame\n",
    "    return pl.concat(df_list, how='vertical') if df_list else pl.DataFrame()"
   ]
  },
  {
   "cell_type": "code",
   "execution_count": 11,
   "id": "f1af0b11",
   "metadata": {},
   "outputs": [],
   "source": [
    "stocks = ['AAPL', 'MSFT', 'GOOG', 'AMZN', 'TSLA', 'NVDA', 'META', 'BRK-A', 'LLY', 'AVGO']\n",
    "news_data = aggregate_news_data(stocks, 20230101, 20230831, True)"
   ]
  },
  {
   "cell_type": "code",
   "execution_count": 12,
   "id": "36383c1a",
   "metadata": {},
   "outputs": [
    {
     "data": {
      "text/html": [
       "<div>\n",
       "<style scoped>\n",
       "    .dataframe tbody tr th:only-of-type {\n",
       "        vertical-align: middle;\n",
       "    }\n",
       "\n",
       "    .dataframe tbody tr th {\n",
       "        vertical-align: top;\n",
       "    }\n",
       "\n",
       "    .dataframe thead th {\n",
       "        text-align: right;\n",
       "    }\n",
       "</style>\n",
       "<table border=\"1\" class=\"dataframe\">\n",
       "  <thead>\n",
       "    <tr style=\"text-align: right;\">\n",
       "      <th></th>\n",
       "    </tr>\n",
       "  </thead>\n",
       "  <tbody>\n",
       "  </tbody>\n",
       "</table>\n",
       "</div>"
      ],
      "text/plain": [
       "Empty DataFrame\n",
       "Columns: []\n",
       "Index: []"
      ]
     },
     "execution_count": 12,
     "metadata": {},
     "output_type": "execute_result"
    }
   ],
   "source": [
    "news_data = news_data.to_pandas()\n",
    "news_data"
   ]
  },
  {
   "cell_type": "code",
   "execution_count": 6,
   "id": "a86cf597",
   "metadata": {},
   "outputs": [],
   "source": [
    "news_data.to_csv('news_data.csv', mode = 'a', index = False, header= False)"
   ]
  },
  {
   "cell_type": "code",
   "execution_count": null,
   "id": "76e9c999",
   "metadata": {},
   "outputs": [],
   "source": []
  }
 ],
 "metadata": {
  "kernelspec": {
   "display_name": "Python 3 (ipykernel)",
   "language": "python",
   "name": "python3"
  },
  "language_info": {
   "codemirror_mode": {
    "name": "ipython",
    "version": 3
   },
   "file_extension": ".py",
   "mimetype": "text/x-python",
   "name": "python",
   "nbconvert_exporter": "python",
   "pygments_lexer": "ipython3",
   "version": "3.11.5"
  }
 },
 "nbformat": 4,
 "nbformat_minor": 5
}
