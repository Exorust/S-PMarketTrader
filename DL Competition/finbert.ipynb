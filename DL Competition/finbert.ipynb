{
 "cells": [
  {
   "cell_type": "code",
   "execution_count": 27,
   "metadata": {},
   "outputs": [],
   "source": [
    "# Use a pipeline as a high-level helper\n",
    "from transformers import pipeline\n",
    "\n",
    "pipe = pipeline(\"text-classification\", model=\"ProsusAI/finbert\", device=0) # device=0 to use GPU\n",
    "\n",
    "# result = pipe(\"I am bullish on $AAPL\", return_all_scores=True)\n"
   ]
  },
  {
   "cell_type": "code",
   "execution_count": 28,
   "metadata": {},
   "outputs": [
    {
     "name": "stderr",
     "output_type": "stream",
     "text": [
      "c:\\Users\\chand\\miniconda3\\envs\\resurgence\\lib\\site-packages\\transformers\\pipelines\\text_classification.py:104: UserWarning: `return_all_scores` is now deprecated,  if want a similar functionality use `top_k=None` instead of `return_all_scores=True` or `top_k=1` instead of `return_all_scores=False`.\n",
      "  warnings.warn(\n"
     ]
    }
   ],
   "source": [
    "# Test case\n",
    "result = pipe(\"I am bullish on $AAPL\", return_all_scores=True)\n"
   ]
  },
  {
   "cell_type": "code",
   "execution_count": 29,
   "metadata": {},
   "outputs": [],
   "source": [
    "import pandas as pd\n",
    "\n",
    "# Replace 'path_to_first_csv.csv' and 'path_to_second_csv.csv' with the actual file paths\n",
    "file_path1 = '2022_2023_data.csv'\n",
    "file_path2 = '2024_data.csv'\n",
    "\n",
    "# Read the CSV files\n",
    "df1 = pd.read_csv(file_path1)\n",
    "df2 = pd.read_csv(file_path2)\n",
    "\n",
    "# Concatenate the DataFrames\n",
    "merged_df = pd.concat([df1, df2], axis=0)\n",
    "\n",
    "# Optionally reset the index if you want a clean sequential index in the new DataFrame\n",
    "merged_df.reset_index(drop=True, inplace=True)\n",
    "\n",
    "# Save the merged DataFrame to a new CSV file\n",
    "merged_df.to_csv('2024_merged_data.csv', index=False)\n"
   ]
  },
  {
   "cell_type": "code",
   "execution_count": 30,
   "metadata": {},
   "outputs": [
    {
     "name": "stdout",
     "output_type": "stream",
     "text": [
      "shape: (1, 14)\n",
      "┌───────────┬───────────┬───────────┬───────────┬───┬───────────┬───────────┬───────────┬──────────┐\n",
      "│ title     ┆ url       ┆ time_publ ┆ authors   ┆ … ┆ overall_s ┆ overall_s ┆ ticker_se ┆ date     │\n",
      "│ ---       ┆ ---       ┆ ished     ┆ ---       ┆   ┆ entiment_ ┆ entiment_ ┆ ntiment   ┆ ---      │\n",
      "│ str       ┆ str       ┆ ---       ┆ str       ┆   ┆ score     ┆ label     ┆ ---       ┆ i64      │\n",
      "│           ┆           ┆ str       ┆           ┆   ┆ ---       ┆ ---       ┆ str       ┆          │\n",
      "│           ┆           ┆           ┆           ┆   ┆ f64       ┆ str       ┆           ┆          │\n",
      "╞═══════════╪═══════════╪═══════════╪═══════════╪═══╪═══════════╪═══════════╪═══════════╪══════════╡\n",
      "│ Apple,    ┆ https://w ┆ 20221231T ┆ ['Michael ┆ … ┆ -0.079733 ┆ Neutral   ┆ [{'ticker ┆ 20221231 │\n",
      "│ AMC,      ┆ ww.benzin ┆ 190310    ┆ Cohen']   ┆   ┆           ┆           ┆ ':        ┆          │\n",
      "│ Meta, And ┆ ga.com/ne ┆           ┆           ┆   ┆           ┆           ┆ 'MSTR',   ┆          │\n",
      "│ How Elon  ┆ ws/la…    ┆           ┆           ┆   ┆           ┆           ┆ 'relevanc ┆          │\n",
      "│ M…        ┆           ┆           ┆           ┆   ┆           ┆           ┆ e_s…      ┆          │\n",
      "└───────────┴───────────┴───────────┴───────────┴───┴───────────┴───────────┴───────────┴──────────┘\n"
     ]
    }
   ],
   "source": [
    "import polars as pl\n",
    "\n",
    "df = pl.read_csv('2024_merged_data.csv')\n",
    "print(df.head(1))\n"
   ]
  },
  {
   "cell_type": "code",
   "execution_count": 31,
   "metadata": {},
   "outputs": [
    {
     "data": {
      "text/plain": [
       "20752"
      ]
     },
     "execution_count": 31,
     "metadata": {},
     "output_type": "execute_result"
    }
   ],
   "source": [
    "from datasets import Dataset\n",
    "\n",
    "# summary_list = df['summary'].to_list()\n",
    "# summary_list\n",
    "data_dict = {col: df[col].to_list() for col in df.columns}\n",
    "\n",
    "dataset = Dataset.from_dict(data_dict)\n",
    "len(dataset)\n"
   ]
  },
  {
   "cell_type": "code",
   "execution_count": 32,
   "metadata": {},
   "outputs": [],
   "source": [
    "# result = pipe(summary_list, return_all_scores=True)\n",
    "from transformers.pipelines.pt_utils import KeyDataset\n",
    "\n",
    "outputs = []\n",
    "for out in pipe(KeyDataset(dataset, \"summary\"), batch_size=64, truncation=\"only_first\"):\n",
    "    outputs.append([out])\n",
    "    # print(out)\n",
    "    break\n"
   ]
  },
  {
   "cell_type": "code",
   "execution_count": 33,
   "metadata": {},
   "outputs": [],
   "source": [
    "df = df.with_columns(pl.Series(\"Finbert_vals\", outputs))\n"
   ]
  },
  {
   "cell_type": "code",
   "execution_count": 34,
   "metadata": {},
   "outputs": [],
   "source": [
    "file_path = '2024_finbert.json'\n",
    "json_str = df.write_json()\n",
    "\n",
    "# Write the JSON string to a file\n",
    "with open(file_path, 'w', encoding='utf-8') as f:\n",
    "    f.write(json_str)\n",
    "\n"
   ]
  },
  {
   "cell_type": "code",
   "execution_count": 35,
   "metadata": {},
   "outputs": [],
   "source": [
    "import pandas as pd\n",
    "curr_df = pd.read_json('2024_finbert.json')\n",
    "\n",
    "curr_df = df.to_pandas()\n",
    "curr_df.to_csv('2024_data_finbert.csv', index = False)"
   ]
  }
 ],
 "metadata": {
  "kernelspec": {
   "display_name": "resurgence",
   "language": "python",
   "name": "python3"
  },
  "language_info": {
   "codemirror_mode": {
    "name": "ipython",
    "version": 3
   },
   "file_extension": ".py",
   "mimetype": "text/x-python",
   "name": "python",
   "nbconvert_exporter": "python",
   "pygments_lexer": "ipython3",
   "version": "3.10.14"
  }
 },
 "nbformat": 4,
 "nbformat_minor": 2
}
