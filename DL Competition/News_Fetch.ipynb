{
 "cells": [
  {
   "cell_type": "code",
   "execution_count": 24,
   "id": "62ed09d1",
   "metadata": {},
   "outputs": [],
   "source": [
    "import polars as pl\n",
    "import requests\n",
    "\n",
    "def fetch_news_data(stock, start_date, end_date,turn):\n",
    "    \"\"\"\n",
    "    Makes an API request and returns the response data.\n",
    "    \n",
    "    :param endpoint: The API endpoint URL.\n",
    "    :param headers: Dictionary containing request headers.\n",
    "    :param params: Dictionary containing query parameters.\n",
    "    :return: Response JSON as a dictionary or None if the request fails.\n",
    "    \"\"\"\n",
    "    if turn:\n",
    "        if end_date:\n",
    "            print(\"others\")\n",
    "            endpoint = f\"https://www.alphavantage.co/query?function=NEWS_SENTIMENT&tickers={stock}&time_from={start_date}T0130&time_to={end_date}T0130&limit=1000&apikey=ZRX2N0ETMX8N4GOR\"\n",
    "        else:\n",
    "            print(\"65DCZMTJLB2SERT9\")\n",
    "            endpoint = f\"https://www.alphavantage.co/query?function=NEWS_SENTIMENT&tickers={stock}&time_from={start_date}T0130&limit=1000&apikey=MLPIDKVUZKO71B19\"\n",
    "    else:\n",
    "        if end_date:\n",
    "            print(\"others\")\n",
    "            endpoint = f\"https://www.alphavantage.co/query?function=NEWS_SENTIMENT&tickers={stock}&time_from={start_date}T0130&time_to={end_date}T0130&limit=1000&apikey=LPHO83KMASND8ZJJ\"\n",
    "        else:\n",
    "            print(\"others\")\n",
    "            endpoint = f\"https://www.alphavantage.co/query?function=NEWS_SENTIMENT&tickers={stock}&time_from={start_date}T0130&limit=1000&apikey=47WWMCYJI8DEB3KR\"\n",
    "    response = requests.get(endpoint)\n",
    "    if response.status_code == 200:\n",
    "        return response.json()\n",
    "    else:\n",
    "        print(f\"Failed to fetch data: {response.status_code}\")\n",
    "        return None\n",
    "\n",
    "def convert_to_dataframe(news_items):\n",
    "    \"\"\"\n",
    "    Converts a list of news items into a Polars DataFrame and extracts the date.\n",
    "    \n",
    "    :param news_items: List of news items.\n",
    "    :return: A Polars DataFrame with an added 'date' column.\n",
    "    \"\"\"\n",
    "    news_items = news_items.get(\"feed\", [])\n",
    "    if news_items:\n",
    "        df = pl.DataFrame(news_items)\n",
    "        df = df.with_columns(pl.col(\"time_published\").str.slice(0, 8).alias(\"date\"))\n",
    "        return df\n",
    "    return pl.DataFrame()\n",
    "\n",
    "def aggregate_news_data(stocks, start_date, end_date, turn):\n",
    "    \"\"\"\n",
    "    Fetches and aggregates news data for a specified number of API calls.\n",
    "     \n",
    "    :param num_calls: Number of API calls to make.\n",
    "    :param endpoint: The API endpoint URL.\n",
    "    :param headers: Dictionary containing request headers.\n",
    "    :param params: Dictionary containing query parameters.\n",
    "    :return: A Polars DataFrame containing aggregated news data.\n",
    "    \"\"\"\n",
    "    df_list = []\n",
    "    for stock in stocks:\n",
    "        # Fetch the news data\n",
    "        news_data = fetch_news_data(stock, start_date, end_date, turn)\n",
    "        \n",
    "        if news_data:\n",
    "            # Convert to DataFrame and append to the list\n",
    "            df = convert_to_dataframe(news_data)\n",
    "            if df.height == 0:\n",
    "                print(news_data)\n",
    "                print('yes')\n",
    "                print(df)\n",
    "            df_list.append(df)\n",
    "\n",
    "    # Concatenate all DataFrames into a single DataFrame\n",
    "    return pl.concat(df_list, how='vertical') if df_list else pl.DataFrame()"
   ]
  },
  {
   "cell_type": "code",
   "execution_count": 4,
   "id": "f1af0b11",
   "metadata": {},
   "outputs": [],
   "source": [
    "stocks = ['AAPL', 'MSFT', 'GOOG', 'AMZN', 'TSLA', 'NVDA', 'META', 'BRK-A', 'LLY', 'AVGO']\n",
    "all_news_df_year_2022 = aggregate_news_data(stocks, 20220101, 20230101, False)"
   ]
  },
  {
   "cell_type": "code",
   "execution_count": 7,
   "id": "825fd779",
   "metadata": {},
   "outputs": [],
   "source": [
    "all_news_df_year_2023 = aggregate_news_data(stocks, 20230101, 20240101, False)"
   ]
  },
  {
   "cell_type": "code",
   "execution_count": 25,
   "id": "3eec8306",
   "metadata": {},
   "outputs": [
    {
     "name": "stdout",
     "output_type": "stream",
     "text": [
      "65DCZMTJLB2SERT9\n",
      "{'Information': 'Thank you for using Alpha Vantage! Our standard API rate limit is 25 requests per day. Please subscribe to any of the premium plans at https://www.alphavantage.co/premium/ to instantly remove all daily rate limits.'}\n",
      "yes\n",
      "shape: (0, 0)\n",
      "┌┐\n",
      "╞╡\n",
      "└┘\n",
      "65DCZMTJLB2SERT9\n",
      "{'Information': 'Thank you for using Alpha Vantage! Our standard API rate limit is 25 requests per day. Please subscribe to any of the premium plans at https://www.alphavantage.co/premium/ to instantly remove all daily rate limits.'}\n",
      "yes\n",
      "shape: (0, 0)\n",
      "┌┐\n",
      "╞╡\n",
      "└┘\n",
      "65DCZMTJLB2SERT9\n",
      "{'Information': 'Thank you for using Alpha Vantage! Our standard API rate limit is 25 requests per day. Please subscribe to any of the premium plans at https://www.alphavantage.co/premium/ to instantly remove all daily rate limits.'}\n",
      "yes\n",
      "shape: (0, 0)\n",
      "┌┐\n",
      "╞╡\n",
      "└┘\n",
      "65DCZMTJLB2SERT9\n",
      "{'Information': 'Thank you for using Alpha Vantage! Our standard API rate limit is 25 requests per day. Please subscribe to any of the premium plans at https://www.alphavantage.co/premium/ to instantly remove all daily rate limits.'}\n",
      "yes\n",
      "shape: (0, 0)\n",
      "┌┐\n",
      "╞╡\n",
      "└┘\n",
      "65DCZMTJLB2SERT9\n",
      "{'Information': 'Thank you for using Alpha Vantage! Our standard API rate limit is 25 requests per day. Please subscribe to any of the premium plans at https://www.alphavantage.co/premium/ to instantly remove all daily rate limits.'}\n",
      "yes\n",
      "shape: (0, 0)\n",
      "┌┐\n",
      "╞╡\n",
      "└┘\n",
      "65DCZMTJLB2SERT9\n",
      "{'Information': 'Thank you for using Alpha Vantage! Our standard API rate limit is 25 requests per day. Please subscribe to any of the premium plans at https://www.alphavantage.co/premium/ to instantly remove all daily rate limits.'}\n",
      "yes\n",
      "shape: (0, 0)\n",
      "┌┐\n",
      "╞╡\n",
      "└┘\n",
      "65DCZMTJLB2SERT9\n",
      "{'Information': 'Thank you for using Alpha Vantage! Our standard API rate limit is 25 requests per day. Please subscribe to any of the premium plans at https://www.alphavantage.co/premium/ to instantly remove all daily rate limits.'}\n",
      "yes\n",
      "shape: (0, 0)\n",
      "┌┐\n",
      "╞╡\n",
      "└┘\n",
      "65DCZMTJLB2SERT9\n",
      "{'Information': 'Thank you for using Alpha Vantage! Our standard API rate limit is 25 requests per day. Please subscribe to any of the premium plans at https://www.alphavantage.co/premium/ to instantly remove all daily rate limits.'}\n",
      "yes\n",
      "shape: (0, 0)\n",
      "┌┐\n",
      "╞╡\n",
      "└┘\n",
      "65DCZMTJLB2SERT9\n",
      "{'Information': 'Thank you for using Alpha Vantage! Our standard API rate limit is 25 requests per day. Please subscribe to any of the premium plans at https://www.alphavantage.co/premium/ to instantly remove all daily rate limits.'}\n",
      "yes\n",
      "shape: (0, 0)\n",
      "┌┐\n",
      "╞╡\n",
      "└┘\n",
      "65DCZMTJLB2SERT9\n",
      "{'Information': 'Thank you for using Alpha Vantage! Our standard API rate limit is 25 requests per day. Please subscribe to any of the premium plans at https://www.alphavantage.co/premium/ to instantly remove all daily rate limits.'}\n",
      "yes\n",
      "shape: (0, 0)\n",
      "┌┐\n",
      "╞╡\n",
      "└┘\n"
     ]
    }
   ],
   "source": [
    "all_news_df_year_2024 = aggregate_news_data(stocks, 20240101, False, True)"
   ]
  },
  {
   "cell_type": "code",
   "execution_count": null,
   "id": "28b95852",
   "metadata": {},
   "outputs": [],
   "source": [
    "    all_news_df_year_2024 = aggregate_news_data(stocks, 20240101, False, True)\n",
    "    df = pl.read_json('data_news.json')\n",
    "    all_news_df = pl.concat([df, all_news_df_year_2024])#, all_news_df_year_2024])\n",
    "    # Convert the DataFrame to a JSON string\n",
    "    json_str = all_news_df.write_json()\n",
    "    #print(json_str)\n",
    "    # Specify the file path\n",
    "    file_path = 'data_news2.json'\n",
    "\n",
    "    # Write the JSON string to a file\n",
    "    with open(file_path, 'w') as f:\n",
    "        f.write(json_str)\n",
    "\n",
    "    # Confirm the JSON data has been saved\n",
    "    print(f'JSON data saved to {file_path}')\n",
    "\n",
    "\n",
    "if __name__ == \"__main__\":\n",
    "    main()\n"
   ]
  },
  {
   "cell_type": "code",
   "execution_count": 12,
   "id": "879b5b5b",
   "metadata": {},
   "outputs": [
    {
     "data": {
      "text/html": [
       "<div><style>\n",
       ".dataframe > thead > tr,\n",
       ".dataframe > tbody > tr {\n",
       "  text-align: right;\n",
       "  white-space: pre-wrap;\n",
       "}\n",
       "</style>\n",
       "<small>shape: (7_015, 14)</small><table border=\"1\" class=\"dataframe\"><thead><tr><th>title</th><th>url</th><th>time_published</th><th>authors</th><th>summary</th><th>banner_image</th><th>source</th><th>category_within_source</th><th>source_domain</th><th>topics</th><th>overall_sentiment_score</th><th>overall_sentiment_label</th><th>ticker_sentiment</th><th>date</th></tr><tr><td>str</td><td>str</td><td>str</td><td>list[str]</td><td>str</td><td>str</td><td>str</td><td>str</td><td>str</td><td>list[struct[2]]</td><td>f64</td><td>str</td><td>list[struct[4]]</td><td>str</td></tr></thead><tbody><tr><td>&quot;What to stream…</td><td>&quot;https://www.ma…</td><td>&quot;20231231T21160…</td><td>[&quot;Mike Murphy&quot;]</td><td>&quot;As the calenda…</td><td>&quot;https://images…</td><td>&quot;MarketWatch&quot;</td><td>&quot;Top Stories&quot;</td><td>&quot;www.marketwatc…</td><td>[{&quot;Technology&quot;,&quot;0.5&quot;}, {&quot;Retail &amp; Wholesale&quot;,&quot;0.5&quot;}]</td><td>0.056158</td><td>&quot;Neutral&quot;</td><td>[{&quot;NFLX&quot;,&quot;0.108141&quot;,&quot;0.056923&quot;,&quot;Neutral&quot;}, {&quot;WBD&quot;,&quot;0.072217&quot;,&quot;0.058011&quot;,&quot;Neutral&quot;}, … {&quot;AMZN&quot;,&quot;0.072217&quot;,&quot;-0.027629&quot;,&quot;Neutral&quot;}]</td><td>&quot;20231231&quot;</td></tr><tr><td>&quot;3 Warren Buffe…</td><td>&quot;https://www.fo…</td><td>&quot;20231231T15000…</td><td>[&quot;Adam Levy&quot;]</td><td>&quot;These three st…</td><td>&quot;https://g.fool…</td><td>&quot;Motley Fool&quot;</td><td>&quot;n/a&quot;</td><td>&quot;www.fool.com&quot;</td><td>[{&quot;Financial Markets&quot;,&quot;0.962106&quot;}, {&quot;Earnings&quot;,&quot;0.947132&quot;}, … {&quot;Finance&quot;,&quot;0.5&quot;}]</td><td>0.366263</td><td>&quot;Bullish&quot;</td><td>[{&quot;TMUS&quot;,&quot;0.081276&quot;,&quot;0.096784&quot;,&quot;Neutral&quot;}, {&quot;AAPL&quot;,&quot;0.240489&quot;,&quot;0.225259&quot;,&quot;Somewhat-Bullish&quot;}, … {&quot;BRK-A&quot;,&quot;0.040691&quot;,&quot;0.100149&quot;,&quot;Neutral&quot;}]</td><td>&quot;20231231&quot;</td></tr><tr><td>&quot;Almost Half of…</td><td>&quot;https://www.fo…</td><td>&quot;20231231T14530…</td><td>[&quot;Neil Patel&quot;]</td><td>&quot;This well-know…</td><td>&quot;https://g.fool…</td><td>&quot;Motley Fool&quot;</td><td>&quot;n/a&quot;</td><td>&quot;www.fool.com&quot;</td><td>[{&quot;Financial Markets&quot;,&quot;0.413559&quot;}, {&quot;Manufacturing&quot;,&quot;0.333333&quot;}, … {&quot;Finance&quot;,&quot;0.333333&quot;}]</td><td>0.231095</td><td>&quot;Somewhat-Bulli…</td><td>[{&quot;AXP&quot;,&quot;0.06697&quot;,&quot;0.18865&quot;,&quot;Somewhat-Bullish&quot;}, {&quot;AAPL&quot;,&quot;0.725359&quot;,&quot;0.424969&quot;,&quot;Bullish&quot;}, … {&quot;BRK-A&quot;,&quot;0.13347&quot;,&quot;0.188494&quot;,&quot;Somewhat-Bullish&quot;}]</td><td>&quot;20231231&quot;</td></tr><tr><td>&quot;Why Artificial…</td><td>&quot;https://www.fo…</td><td>&quot;20231231T12300…</td><td>[&quot;Harsh Chauhan&quot;]</td><td>&quot;This tech tita…</td><td>&quot;https://g.fool…</td><td>&quot;Motley Fool&quot;</td><td>&quot;n/a&quot;</td><td>&quot;www.fool.com&quot;</td><td>[{&quot;Economy - Monetary&quot;,&quot;0.158519&quot;}, {&quot;Financial Markets&quot;,&quot;0.316726&quot;}, … {&quot;Technology&quot;,&quot;0.5&quot;}]</td><td>0.236511</td><td>&quot;Somewhat-Bulli…</td><td>[{&quot;MSFT&quot;,&quot;0.045224&quot;,&quot;0.160039&quot;,&quot;Somewhat-Bullish&quot;}, {&quot;META&quot;,&quot;0.045224&quot;,&quot;0.160039&quot;,&quot;Somewhat-Bullish&quot;}, … {&quot;TSLA&quot;,&quot;0.045224&quot;,&quot;0.160039&quot;,&quot;Somewhat-Bullish&quot;}]</td><td>&quot;20231231&quot;</td></tr><tr><td>&quot;$10,000 Invest…</td><td>&quot;https://www.fo…</td><td>&quot;20231231T10300…</td><td>[&quot;RJ Fulton&quot;]</td><td>&quot;As the cryptoc…</td><td>&quot;https://g.fool…</td><td>&quot;Motley Fool&quot;</td><td>&quot;n/a&quot;</td><td>&quot;www.fool.com&quot;</td><td>[{&quot;Retail &amp; Wholesale&quot;,&quot;0.333333&quot;}, {&quot;Financial Markets&quot;,&quot;0.360215&quot;}, … {&quot;Blockchain&quot;,&quot;0.769861&quot;}]</td><td>0.186947</td><td>&quot;Somewhat-Bulli…</td><td>[{&quot;AAPL&quot;,&quot;0.053509&quot;,&quot;0.186986&quot;,&quot;Somewhat-Bullish&quot;}, {&quot;AMZN&quot;,&quot;0.053509&quot;,&quot;0.186986&quot;,&quot;Somewhat-Bullish&quot;}, … {&quot;CRYPTO:BTC&quot;,&quot;0.053509&quot;,&quot;0.1067&quot;,&quot;Neutral&quot;}]</td><td>&quot;20231231&quot;</td></tr><tr><td>&hellip;</td><td>&hellip;</td><td>&hellip;</td><td>&hellip;</td><td>&hellip;</td><td>&hellip;</td><td>&hellip;</td><td>&hellip;</td><td>&hellip;</td><td>&hellip;</td><td>&hellip;</td><td>&hellip;</td><td>&hellip;</td><td>&hellip;</td></tr><tr><td>&quot;Broadcom Stock…</td><td>&quot;https://www.be…</td><td>&quot;20230821T15174…</td><td>[&quot;Adam Eckert&quot;]</td><td>&quot;Broadcom Inc A…</td><td>&quot;https://cdn.be…</td><td>&quot;Benzinga&quot;</td><td>&quot;Mergers&quot;</td><td>&quot;www.benzinga.c…</td><td>[{&quot;Technology&quot;,&quot;0.5&quot;}, {&quot;Financial Markets&quot;,&quot;0.108179&quot;}, {&quot;Manufacturing&quot;,&quot;0.5&quot;}]</td><td>0.339224</td><td>&quot;Somewhat-Bulli…</td><td>[{&quot;VMW&quot;,&quot;0.640349&quot;,&quot;0.56118&quot;,&quot;Bullish&quot;}, {&quot;AVGO&quot;,&quot;0.960704&quot;,&quot;0.65282&quot;,&quot;Bullish&quot;}]</td><td>&quot;20230821&quot;</td></tr><tr><td>&quot;Stock Market M…</td><td>&quot;https://www.in…</td><td>&quot;20230821T14500…</td><td>[&quot;Investor&#x27;s Business Daily&quot;, &quot;KIMBERLEY KOENIG&quot;]</td><td>&quot;Stock Market M…</td><td>&quot;https://www.in…</td><td>&quot;Investors Busi…</td><td>&quot;n/a&quot;</td><td>&quot;www.investors.…</td><td>[{&quot;Energy &amp; Transportation&quot;,&quot;0.25&quot;}, {&quot;Technology&quot;,&quot;0.25&quot;}, … {&quot;Mergers &amp; Acquisitions&quot;,&quot;0.360215&quot;}]</td><td>0.202316</td><td>&quot;Somewhat-Bulli…</td><td>[{&quot;XPEV&quot;,&quot;0.12645&quot;,&quot;0.265697&quot;,&quot;Somewhat-Bullish&quot;}, {&quot;NSSC&quot;,&quot;0.12645&quot;,&quot;-0.030647&quot;,&quot;Neutral&quot;}, … {&quot;PANW&quot;,&quot;0.12645&quot;,&quot;0.061335&quot;,&quot;Neutral&quot;}]</td><td>&quot;20230821&quot;</td></tr><tr><td>&quot;Why These 2 Te…</td><td>&quot;https://www.fo…</td><td>&quot;20230821T13552…</td><td>[&quot;Dan Caplinger&quot;]</td><td>&quot;Wall Street go…</td><td>&quot;https://g.fool…</td><td>&quot;Motley Fool&quot;</td><td>&quot;n/a&quot;</td><td>&quot;www.fool.com&quot;</td><td>[{&quot;Financial Markets&quot;,&quot;0.77141&quot;}, {&quot;Manufacturing&quot;,&quot;0.5&quot;}, … {&quot;Technology&quot;,&quot;0.5&quot;}]</td><td>0.333837</td><td>&quot;Somewhat-Bulli…</td><td>[{&quot;VMW&quot;,&quot;0.293741&quot;,&quot;0.356722&quot;,&quot;Bullish&quot;}, {&quot;AVGO&quot;,&quot;0.293741&quot;,&quot;0.294625&quot;,&quot;Somewhat-Bullish&quot;}, {&quot;PANW&quot;,&quot;0.1789&quot;,&quot;0.229178&quot;,&quot;Somewhat-Bullish&quot;}]</td><td>&quot;20230821&quot;</td></tr><tr><td>&quot;VYM: Buy, Hold…</td><td>&quot;https://stockn…</td><td>&quot;20230821T13114…</td><td>[&quot;StockNews.com Staff&quot;]</td><td>&quot;VYM: Buy, Hold…</td><td>&quot;https://stockn…</td><td>&quot;Stocknews.com&quot;</td><td>&quot;n/a&quot;</td><td>&quot;stocknews.com&quot;</td><td>[{&quot;Life Sciences&quot;,&quot;0.25&quot;}, {&quot;Energy &amp; Transportation&quot;,&quot;0.25&quot;}, … {&quot;Manufacturing&quot;,&quot;0.25&quot;}]</td><td>0.190463</td><td>&quot;Somewhat-Bulli…</td><td>[{&quot;MCO&quot;,&quot;0.042421&quot;,&quot;-0.040987&quot;,&quot;Neutral&quot;}, {&quot;AVGO&quot;,&quot;0.084722&quot;,&quot;0.059367&quot;,&quot;Neutral&quot;}, … {&quot;XOM&quot;,&quot;0.084722&quot;,&quot;0.059367&quot;,&quot;Neutral&quot;}]</td><td>&quot;20230821&quot;</td></tr><tr><td>&quot;Vmware Stock I…</td><td>&quot;https://www.be…</td><td>&quot;20230821T12583…</td><td>[&quot;Anusuya Lahiri&quot;]</td><td>&quot;Vmware, Inc VM…</td><td>&quot;https://cdn.be…</td><td>&quot;Benzinga&quot;</td><td>&quot;Mergers&quot;</td><td>&quot;www.benzinga.c…</td><td>[{&quot;Economy - Monetary&quot;,&quot;0.158519&quot;}, {&quot;Financial Markets&quot;,&quot;0.316726&quot;}, … {&quot;Technology&quot;,&quot;0.5&quot;}]</td><td>0.215457</td><td>&quot;Somewhat-Bulli…</td><td>[{&quot;VMW&quot;,&quot;0.703273&quot;,&quot;0.435501&quot;,&quot;Bullish&quot;}, {&quot;AVGO&quot;,&quot;0.566143&quot;,&quot;0.454565&quot;,&quot;Bullish&quot;}]</td><td>&quot;20230821&quot;</td></tr></tbody></table></div>"
      ],
      "text/plain": [
       "shape: (7_015, 14)\n",
       "┌──────────────┬──────────────┬──────────────┬──────────────┬───┬──────────────┬──────────────┬─────────────┬──────────┐\n",
       "│ title        ┆ url          ┆ time_publish ┆ authors      ┆ … ┆ overall_sent ┆ overall_sent ┆ ticker_sent ┆ date     │\n",
       "│ ---          ┆ ---          ┆ ed           ┆ ---          ┆   ┆ iment_score  ┆ iment_label  ┆ iment       ┆ ---      │\n",
       "│ str          ┆ str          ┆ ---          ┆ list[str]    ┆   ┆ ---          ┆ ---          ┆ ---         ┆ str      │\n",
       "│              ┆              ┆ str          ┆              ┆   ┆ f64          ┆ str          ┆ list[struct ┆          │\n",
       "│              ┆              ┆              ┆              ┆   ┆              ┆              ┆ [4]]        ┆          │\n",
       "╞══════════════╪══════════════╪══════════════╪══════════════╪═══╪══════════════╪══════════════╪═════════════╪══════════╡\n",
       "│ What to      ┆ https://www. ┆ 20231231T211 ┆ [\"Mike       ┆ … ┆ 0.056158     ┆ Neutral      ┆ [{\"NFLX\",\"0 ┆ 20231231 │\n",
       "│ stream in    ┆ marketwatch. ┆ 600          ┆ Murphy\"]     ┆   ┆              ┆              ┆ .108141\",\"0 ┆          │\n",
       "│ January      ┆ com/stor…    ┆              ┆              ┆   ┆              ┆              ┆ .056923\",\"… ┆          │\n",
       "│ 2024: …      ┆              ┆              ┆              ┆   ┆              ┆              ┆             ┆          │\n",
       "│ 3 Warren     ┆ https://www. ┆ 20231231T150 ┆ [\"Adam       ┆ … ┆ 0.366263     ┆ Bullish      ┆ [{\"TMUS\",\"0 ┆ 20231231 │\n",
       "│ Buffett      ┆ fool.com/inv ┆ 000          ┆ Levy\"]       ┆   ┆              ┆              ┆ .081276\",\"0 ┆          │\n",
       "│ Dividend     ┆ esting/2…    ┆              ┆              ┆   ┆              ┆              ┆ .096784\",\"… ┆          │\n",
       "│ Growth…      ┆              ┆              ┆              ┆   ┆              ┆              ┆             ┆          │\n",
       "│ Almost Half  ┆ https://www. ┆ 20231231T145 ┆ [\"Neil       ┆ … ┆ 0.231095     ┆ Somewhat-Bul ┆ [{\"AXP\",\"0. ┆ 20231231 │\n",
       "│ of Warren    ┆ fool.com/inv ┆ 300          ┆ Patel\"]      ┆   ┆              ┆ lish         ┆ 06697\",\"0.1 ┆          │\n",
       "│ Buffett-le…  ┆ esting/2…    ┆              ┆              ┆   ┆              ┆              ┆ 8865\",\"Som… ┆          │\n",
       "│ Why          ┆ https://www. ┆ 20231231T123 ┆ [\"Harsh      ┆ … ┆ 0.236511     ┆ Somewhat-Bul ┆ [{\"MSFT\",\"0 ┆ 20231231 │\n",
       "│ Artificial   ┆ fool.com/inv ┆ 000          ┆ Chauhan\"]    ┆   ┆              ┆ lish         ┆ .045224\",\"0 ┆          │\n",
       "│ Intelligence ┆ esting/2…    ┆              ┆              ┆   ┆              ┆              ┆ .160039\",\"… ┆          │\n",
       "│ ( A…         ┆              ┆              ┆              ┆   ┆              ┆              ┆             ┆          │\n",
       "│ $10,000      ┆ https://www. ┆ 20231231T103 ┆ [\"RJ         ┆ … ┆ 0.186947     ┆ Somewhat-Bul ┆ [{\"AAPL\",\"0 ┆ 20231231 │\n",
       "│ Invested in  ┆ fool.com/inv ┆ 000          ┆ Fulton\"]     ┆   ┆              ┆ lish         ┆ .053509\",\"0 ┆          │\n",
       "│ This Growth  ┆ esting/2…    ┆              ┆              ┆   ┆              ┆              ┆ .186986\",\"… ┆          │\n",
       "│ …            ┆              ┆              ┆              ┆   ┆              ┆              ┆             ┆          │\n",
       "│ …            ┆ …            ┆ …            ┆ …            ┆ … ┆ …            ┆ …            ┆ …           ┆ …        │\n",
       "│ Broadcom     ┆ https://www. ┆ 20230821T151 ┆ [\"Adam       ┆ … ┆ 0.339224     ┆ Somewhat-Bul ┆ [{\"VMW\",\"0. ┆ 20230821 │\n",
       "│ Stock Is     ┆ benzinga.com ┆ 745          ┆ Eckert\"]     ┆   ┆              ┆ lish         ┆ 640349\",\"0. ┆          │\n",
       "│ Climbing:    ┆ /m-a/23/…    ┆              ┆              ┆   ┆              ┆              ┆ 56118\",\"Bu… ┆          │\n",
       "│ What…        ┆              ┆              ┆              ┆   ┆              ┆              ┆             ┆          │\n",
       "│ Stock Market ┆ https://www. ┆ 20230821T145 ┆ [\"Investor's ┆ … ┆ 0.202316     ┆ Somewhat-Bul ┆ [{\"XPEV\",\"0 ┆ 20230821 │\n",
       "│ Mixed As     ┆ investors.co ┆ 000          ┆ Business     ┆   ┆              ┆ lish         ┆ .12645\",\"0. ┆          │\n",
       "│ Nasdaq Lea…  ┆ m/market…    ┆              ┆ Daily\", \"K…  ┆   ┆              ┆              ┆ 265697\",\"S… ┆          │\n",
       "│ Why These 2  ┆ https://www. ┆ 20230821T135 ┆ [\"Dan        ┆ … ┆ 0.333837     ┆ Somewhat-Bul ┆ [{\"VMW\",\"0. ┆ 20230821 │\n",
       "│ Tech Stocks  ┆ fool.com/inv ┆ 522          ┆ Caplinger\"]  ┆   ┆              ┆ lish         ┆ 293741\",\"0. ┆          │\n",
       "│ Are Lead…    ┆ esting/2…    ┆              ┆              ┆   ┆              ┆              ┆ 356722\",\"B… ┆          │\n",
       "│ VYM: Buy,    ┆ https://stoc ┆ 20230821T131 ┆ [\"StockNews. ┆ … ┆ 0.190463     ┆ Somewhat-Bul ┆ [{\"MCO\",\"0. ┆ 20230821 │\n",
       "│ Hold, or     ┆ knews.com/ne ┆ 148          ┆ com Staff\"]  ┆   ┆              ┆ lish         ┆ 042421\",\"-0 ┆          │\n",
       "│ Sell:        ┆ ws/vym-v…    ┆              ┆              ┆   ┆              ┆              ┆ .040987\",\"… ┆          │\n",
       "│ Vanguar…     ┆              ┆              ┆              ┆   ┆              ┆              ┆             ┆          │\n",
       "│ Vmware Stock ┆ https://www. ┆ 20230821T125 ┆ [\"Anusuya    ┆ … ┆ 0.215457     ┆ Somewhat-Bul ┆ [{\"VMW\",\"0. ┆ 20230821 │\n",
       "│ Is Trading   ┆ benzinga.com ┆ 839          ┆ Lahiri\"]     ┆   ┆              ┆ lish         ┆ 703273\",\"0. ┆          │\n",
       "│ Higher M…    ┆ /governm…    ┆              ┆              ┆   ┆              ┆              ┆ 435501\",\"B… ┆          │\n",
       "└──────────────┴──────────────┴──────────────┴──────────────┴───┴──────────────┴──────────────┴─────────────┴──────────┘"
      ]
     },
     "execution_count": 12,
     "metadata": {},
     "output_type": "execute_result"
    }
   ],
   "source": [
    "all_news_df_year_2023"
   ]
  },
  {
   "cell_type": "code",
   "execution_count": 26,
   "id": "9e5d388b",
   "metadata": {},
   "outputs": [],
   "source": [
    "all_news_df = pl.concat([all_news_df_year_2022, all_news_df_year_2023])#, all_news_df_year_2024])"
   ]
  },
  {
   "cell_type": "code",
   "execution_count": 27,
   "id": "1e816c3d",
   "metadata": {},
   "outputs": [
    {
     "data": {
      "text/plain": [
       "(13888, 14)"
      ]
     },
     "execution_count": 27,
     "metadata": {},
     "output_type": "execute_result"
    }
   ],
   "source": [
    "all_news_df.shape"
   ]
  },
  {
   "cell_type": "code",
   "execution_count": 28,
   "id": "897036d0",
   "metadata": {},
   "outputs": [
    {
     "ename": "ComputeError",
     "evalue": "CSV format does not support nested data",
     "output_type": "error",
     "traceback": [
      "\u001b[1;31m---------------------------------------------------------------------------\u001b[0m",
      "\u001b[1;31mComputeError\u001b[0m                              Traceback (most recent call last)",
      "Cell \u001b[1;32mIn[28], line 1\u001b[0m\n\u001b[1;32m----> 1\u001b[0m all_news_df\u001b[38;5;241m.\u001b[39mwrite_csv(\u001b[38;5;124m\"\u001b[39m\u001b[38;5;124m2022_2023_data.csv\u001b[39m\u001b[38;5;124m\"\u001b[39m)\n",
      "File \u001b[1;32m~\\anaconda3\\Lib\\site-packages\\polars\\_utils\\deprecation.py:134\u001b[0m, in \u001b[0;36mdeprecate_renamed_parameter.<locals>.decorate.<locals>.wrapper\u001b[1;34m(*args, **kwargs)\u001b[0m\n\u001b[0;32m    129\u001b[0m \u001b[38;5;129m@wraps\u001b[39m(function)\n\u001b[0;32m    130\u001b[0m \u001b[38;5;28;01mdef\u001b[39;00m \u001b[38;5;21mwrapper\u001b[39m(\u001b[38;5;241m*\u001b[39margs: P\u001b[38;5;241m.\u001b[39margs, \u001b[38;5;241m*\u001b[39m\u001b[38;5;241m*\u001b[39mkwargs: P\u001b[38;5;241m.\u001b[39mkwargs) \u001b[38;5;241m-\u001b[39m\u001b[38;5;241m>\u001b[39m T:\n\u001b[0;32m    131\u001b[0m     _rename_keyword_argument(\n\u001b[0;32m    132\u001b[0m         old_name, new_name, kwargs, function\u001b[38;5;241m.\u001b[39m\u001b[38;5;18m__name__\u001b[39m, version\n\u001b[0;32m    133\u001b[0m     )\n\u001b[1;32m--> 134\u001b[0m     \u001b[38;5;28;01mreturn\u001b[39;00m function(\u001b[38;5;241m*\u001b[39margs, \u001b[38;5;241m*\u001b[39m\u001b[38;5;241m*\u001b[39mkwargs)\n",
      "File \u001b[1;32m~\\anaconda3\\Lib\\site-packages\\polars\\_utils\\deprecation.py:134\u001b[0m, in \u001b[0;36mdeprecate_renamed_parameter.<locals>.decorate.<locals>.wrapper\u001b[1;34m(*args, **kwargs)\u001b[0m\n\u001b[0;32m    129\u001b[0m \u001b[38;5;129m@wraps\u001b[39m(function)\n\u001b[0;32m    130\u001b[0m \u001b[38;5;28;01mdef\u001b[39;00m \u001b[38;5;21mwrapper\u001b[39m(\u001b[38;5;241m*\u001b[39margs: P\u001b[38;5;241m.\u001b[39margs, \u001b[38;5;241m*\u001b[39m\u001b[38;5;241m*\u001b[39mkwargs: P\u001b[38;5;241m.\u001b[39mkwargs) \u001b[38;5;241m-\u001b[39m\u001b[38;5;241m>\u001b[39m T:\n\u001b[0;32m    131\u001b[0m     _rename_keyword_argument(\n\u001b[0;32m    132\u001b[0m         old_name, new_name, kwargs, function\u001b[38;5;241m.\u001b[39m\u001b[38;5;18m__name__\u001b[39m, version\n\u001b[0;32m    133\u001b[0m     )\n\u001b[1;32m--> 134\u001b[0m     \u001b[38;5;28;01mreturn\u001b[39;00m function(\u001b[38;5;241m*\u001b[39margs, \u001b[38;5;241m*\u001b[39m\u001b[38;5;241m*\u001b[39mkwargs)\n",
      "File \u001b[1;32m~\\anaconda3\\Lib\\site-packages\\polars\\dataframe\\frame.py:2127\u001b[0m, in \u001b[0;36mDataFrame.write_csv\u001b[1;34m(self, file, include_bom, include_header, separator, line_terminator, quote_char, batch_size, datetime_format, date_format, time_format, float_precision, null_value, quote_style)\u001b[0m\n\u001b[0;32m   2124\u001b[0m \u001b[38;5;28;01melif\u001b[39;00m \u001b[38;5;28misinstance\u001b[39m(file, TextIOWrapper):\n\u001b[0;32m   2125\u001b[0m     file \u001b[38;5;241m=\u001b[39m cast(TextIOWrapper, file\u001b[38;5;241m.\u001b[39mbuffer)\n\u001b[1;32m-> 2127\u001b[0m \u001b[38;5;28mself\u001b[39m\u001b[38;5;241m.\u001b[39m_df\u001b[38;5;241m.\u001b[39mwrite_csv(\n\u001b[0;32m   2128\u001b[0m     file,\n\u001b[0;32m   2129\u001b[0m     include_bom,\n\u001b[0;32m   2130\u001b[0m     include_header,\n\u001b[0;32m   2131\u001b[0m     \u001b[38;5;28mord\u001b[39m(separator),\n\u001b[0;32m   2132\u001b[0m     line_terminator,\n\u001b[0;32m   2133\u001b[0m     \u001b[38;5;28mord\u001b[39m(quote_char),\n\u001b[0;32m   2134\u001b[0m     batch_size,\n\u001b[0;32m   2135\u001b[0m     datetime_format,\n\u001b[0;32m   2136\u001b[0m     date_format,\n\u001b[0;32m   2137\u001b[0m     time_format,\n\u001b[0;32m   2138\u001b[0m     float_precision,\n\u001b[0;32m   2139\u001b[0m     null_value,\n\u001b[0;32m   2140\u001b[0m     quote_style,\n\u001b[0;32m   2141\u001b[0m )\n\u001b[0;32m   2143\u001b[0m \u001b[38;5;28;01mif\u001b[39;00m should_return_buffer:\n\u001b[0;32m   2144\u001b[0m     \u001b[38;5;28;01mreturn\u001b[39;00m \u001b[38;5;28mstr\u001b[39m(buffer\u001b[38;5;241m.\u001b[39mgetvalue(), encoding\u001b[38;5;241m=\u001b[39m\u001b[38;5;124m\"\u001b[39m\u001b[38;5;124mutf-8\u001b[39m\u001b[38;5;124m\"\u001b[39m)\n",
      "\u001b[1;31mComputeError\u001b[0m: CSV format does not support nested data"
     ]
    }
   ],
   "source": [
    "all_news_df.write_csv(\"2022_2023_data.csv\")"
   ]
  },
  {
   "cell_type": "code",
   "execution_count": 33,
   "id": "0ca7f7a8",
   "metadata": {},
   "outputs": [],
   "source": [
    "json_str = all_news_df.write_json()\n",
    "#print(json_str)\n",
    "# Specify the file path\n",
    "file_path = '2022_2023_data.json'\n",
    "\n",
    "# Write the JSON string to a file\n",
    "with open(file_path, 'w', encoding='utf-8') as f:\n",
    "    f.write(json_str)"
   ]
  },
  {
   "cell_type": "code",
   "execution_count": 30,
   "id": "b8fd6bf4",
   "metadata": {},
   "outputs": [
    {
     "data": {
      "text/html": [
       "<div><style>\n",
       ".dataframe > thead > tr,\n",
       ".dataframe > tbody > tr {\n",
       "  text-align: right;\n",
       "  white-space: pre-wrap;\n",
       "}\n",
       "</style>\n",
       "<small>shape: (13_888, 14)</small><table border=\"1\" class=\"dataframe\"><thead><tr><th>title</th><th>url</th><th>time_published</th><th>authors</th><th>summary</th><th>banner_image</th><th>source</th><th>category_within_source</th><th>source_domain</th><th>topics</th><th>overall_sentiment_score</th><th>overall_sentiment_label</th><th>ticker_sentiment</th><th>date</th></tr><tr><td>str</td><td>str</td><td>str</td><td>list[str]</td><td>str</td><td>str</td><td>str</td><td>str</td><td>str</td><td>list[struct[2]]</td><td>f64</td><td>str</td><td>list[struct[4]]</td><td>str</td></tr></thead><tbody><tr><td>&quot;Apple, AMC, Me…</td><td>&quot;https://www.be…</td><td>&quot;20221231T19031…</td><td>[&quot;Michael Cohen&quot;]</td><td>&quot;Benzinga exami…</td><td>&quot;https://cdn.be…</td><td>&quot;Benzinga&quot;</td><td>&quot;Trading&quot;</td><td>&quot;www.benzinga.c…</td><td>[{&quot;Financial Markets&quot;,&quot;0.316726&quot;}, {&quot;Manufacturing&quot;,&quot;0.333333&quot;}, … {&quot;Technology&quot;,&quot;0.333333&quot;}]</td><td>-0.079733</td><td>&quot;Neutral&quot;</td><td>[{&quot;MSTR&quot;,&quot;0.247838&quot;,&quot;0.0&quot;,&quot;Neutral&quot;}, {&quot;META&quot;,&quot;0.166743&quot;,&quot;-0.022036&quot;,&quot;Neutral&quot;}, … {&quot;CRYPTO:BTC&quot;,&quot;0.326283&quot;,&quot;0.0&quot;,&quot;Neutral&quot;}]</td><td>&quot;20221231&quot;</td></tr><tr><td>&quot;Bulls In A Bea…</td><td>&quot;https://www.be…</td><td>&quot;20221231T16111…</td><td>[&quot;Shanthi Rexaline&quot;]</td><td>&quot;2022 would go …</td><td>&quot;https://cdn.be…</td><td>&quot;Benzinga&quot;</td><td>&quot;General&quot;</td><td>&quot;www.benzinga.c…</td><td>[{&quot;Life Sciences&quot;,&quot;0.166667&quot;}, {&quot;Energy &amp; Transportation&quot;,&quot;0.166667&quot;}, … {&quot;Real Estate &amp; Construction&quot;,&quot;0.166667&quot;}]</td><td>0.064077</td><td>&quot;Neutral&quot;</td><td>[{&quot;AAPL&quot;,&quot;0.113776&quot;,&quot;-0.055435&quot;,&quot;Neutral&quot;}, {&quot;TSLA&quot;,&quot;0.075995&quot;,&quot;-0.147409&quot;,&quot;Neutral&quot;}, … {&quot;GS&quot;,&quot;0.03804&quot;,&quot;-0.034304&quot;,&quot;Neutral&quot;}]</td><td>&quot;20221231&quot;</td></tr><tr><td>&quot;Where Will Uni…</td><td>&quot;https://www.fo…</td><td>&quot;20221231T15450…</td><td>[&quot;Leo Sun&quot;]</td><td>&quot;The game-engin…</td><td>&quot;https://g.fool…</td><td>&quot;Motley Fool&quot;</td><td>&quot;n/a&quot;</td><td>&quot;www.fool.com&quot;</td><td>[{&quot;IPO&quot;,&quot;0.769861&quot;}, {&quot;Financial Markets&quot;,&quot;0.266143&quot;}, … {&quot;Technology&quot;,&quot;1.0&quot;}]</td><td>0.202065</td><td>&quot;Somewhat-Bulli…</td><td>[{&quot;U&quot;,&quot;0.095517&quot;,&quot;0.0&quot;,&quot;Neutral&quot;}, {&quot;AAPL&quot;,&quot;0.095517&quot;,&quot;0.133304&quot;,&quot;Neutral&quot;}]</td><td>&quot;20221231&quot;</td></tr><tr><td>&quot;3 Unstoppable …</td><td>&quot;https://www.fo…</td><td>&quot;20221231T14000…</td><td>[&quot;Dani Cook&quot;]</td><td>&quot;These companie…</td><td>&quot;https://g.fool…</td><td>&quot;Motley Fool&quot;</td><td>&quot;n/a&quot;</td><td>&quot;www.fool.com&quot;</td><td>[{&quot;Financial Markets&quot;,&quot;0.999864&quot;}, {&quot;Manufacturing&quot;,&quot;0.5&quot;}, … {&quot;Technology&quot;,&quot;0.5&quot;}]</td><td>0.152163</td><td>&quot;Somewhat-Bulli…</td><td>[{&quot;AMD&quot;,&quot;0.223248&quot;,&quot;0.034875&quot;,&quot;Neutral&quot;}, {&quot;MSFT&quot;,&quot;0.349945&quot;,&quot;0.119746&quot;,&quot;Neutral&quot;}, {&quot;AAPL&quot;,&quot;0.308614&quot;,&quot;-0.039157&quot;,&quot;Neutral&quot;}]</td><td>&quot;20221231&quot;</td></tr><tr><td>&quot;Even in an Adv…</td><td>&quot;https://www.fo…</td><td>&quot;20221231T12000…</td><td>[&quot;Adam Levy&quot;]</td><td>&quot;Ad sales growt…</td><td>&quot;https://g.fool…</td><td>&quot;Motley Fool&quot;</td><td>&quot;n/a&quot;</td><td>&quot;www.fool.com&quot;</td><td>[{&quot;Earnings&quot;,&quot;0.986714&quot;}, {&quot;Technology&quot;,&quot;1.0&quot;}, … {&quot;Economy - Macro&quot;,&quot;0.158519&quot;}]</td><td>0.151938</td><td>&quot;Somewhat-Bulli…</td><td>[{&quot;GOOG&quot;,&quot;0.243376&quot;,&quot;0.076203&quot;,&quot;Neutral&quot;}, {&quot;ROKU&quot;,&quot;0.049424&quot;,&quot;-0.017034&quot;,&quot;Neutral&quot;}, … {&quot;TTD&quot;,&quot;0.335628&quot;,&quot;0.009787&quot;,&quot;Neutral&quot;}]</td><td>&quot;20221231&quot;</td></tr><tr><td>&hellip;</td><td>&hellip;</td><td>&hellip;</td><td>&hellip;</td><td>&hellip;</td><td>&hellip;</td><td>&hellip;</td><td>&hellip;</td><td>&hellip;</td><td>&hellip;</td><td>&hellip;</td><td>&hellip;</td><td>&hellip;</td><td>&hellip;</td></tr><tr><td>&quot;Broadcom Stock…</td><td>&quot;https://www.be…</td><td>&quot;20230821T15174…</td><td>[&quot;Adam Eckert&quot;]</td><td>&quot;Broadcom Inc A…</td><td>&quot;https://cdn.be…</td><td>&quot;Benzinga&quot;</td><td>&quot;Mergers&quot;</td><td>&quot;www.benzinga.c…</td><td>[{&quot;Technology&quot;,&quot;0.5&quot;}, {&quot;Financial Markets&quot;,&quot;0.108179&quot;}, {&quot;Manufacturing&quot;,&quot;0.5&quot;}]</td><td>0.339224</td><td>&quot;Somewhat-Bulli…</td><td>[{&quot;VMW&quot;,&quot;0.640349&quot;,&quot;0.56118&quot;,&quot;Bullish&quot;}, {&quot;AVGO&quot;,&quot;0.960704&quot;,&quot;0.65282&quot;,&quot;Bullish&quot;}]</td><td>&quot;20230821&quot;</td></tr><tr><td>&quot;Stock Market M…</td><td>&quot;https://www.in…</td><td>&quot;20230821T14500…</td><td>[&quot;Investor&#x27;s Business Daily&quot;, &quot;KIMBERLEY KOENIG&quot;]</td><td>&quot;Stock Market M…</td><td>&quot;https://www.in…</td><td>&quot;Investors Busi…</td><td>&quot;n/a&quot;</td><td>&quot;www.investors.…</td><td>[{&quot;Energy &amp; Transportation&quot;,&quot;0.25&quot;}, {&quot;Technology&quot;,&quot;0.25&quot;}, … {&quot;Mergers &amp; Acquisitions&quot;,&quot;0.360215&quot;}]</td><td>0.202316</td><td>&quot;Somewhat-Bulli…</td><td>[{&quot;XPEV&quot;,&quot;0.12645&quot;,&quot;0.265697&quot;,&quot;Somewhat-Bullish&quot;}, {&quot;NSSC&quot;,&quot;0.12645&quot;,&quot;-0.030647&quot;,&quot;Neutral&quot;}, … {&quot;PANW&quot;,&quot;0.12645&quot;,&quot;0.061335&quot;,&quot;Neutral&quot;}]</td><td>&quot;20230821&quot;</td></tr><tr><td>&quot;Why These 2 Te…</td><td>&quot;https://www.fo…</td><td>&quot;20230821T13552…</td><td>[&quot;Dan Caplinger&quot;]</td><td>&quot;Wall Street go…</td><td>&quot;https://g.fool…</td><td>&quot;Motley Fool&quot;</td><td>&quot;n/a&quot;</td><td>&quot;www.fool.com&quot;</td><td>[{&quot;Financial Markets&quot;,&quot;0.77141&quot;}, {&quot;Manufacturing&quot;,&quot;0.5&quot;}, … {&quot;Technology&quot;,&quot;0.5&quot;}]</td><td>0.333837</td><td>&quot;Somewhat-Bulli…</td><td>[{&quot;VMW&quot;,&quot;0.293741&quot;,&quot;0.356722&quot;,&quot;Bullish&quot;}, {&quot;AVGO&quot;,&quot;0.293741&quot;,&quot;0.294625&quot;,&quot;Somewhat-Bullish&quot;}, {&quot;PANW&quot;,&quot;0.1789&quot;,&quot;0.229178&quot;,&quot;Somewhat-Bullish&quot;}]</td><td>&quot;20230821&quot;</td></tr><tr><td>&quot;VYM: Buy, Hold…</td><td>&quot;https://stockn…</td><td>&quot;20230821T13114…</td><td>[&quot;StockNews.com Staff&quot;]</td><td>&quot;VYM: Buy, Hold…</td><td>&quot;https://stockn…</td><td>&quot;Stocknews.com&quot;</td><td>&quot;n/a&quot;</td><td>&quot;stocknews.com&quot;</td><td>[{&quot;Life Sciences&quot;,&quot;0.25&quot;}, {&quot;Energy &amp; Transportation&quot;,&quot;0.25&quot;}, … {&quot;Manufacturing&quot;,&quot;0.25&quot;}]</td><td>0.190463</td><td>&quot;Somewhat-Bulli…</td><td>[{&quot;MCO&quot;,&quot;0.042421&quot;,&quot;-0.040987&quot;,&quot;Neutral&quot;}, {&quot;AVGO&quot;,&quot;0.084722&quot;,&quot;0.059367&quot;,&quot;Neutral&quot;}, … {&quot;XOM&quot;,&quot;0.084722&quot;,&quot;0.059367&quot;,&quot;Neutral&quot;}]</td><td>&quot;20230821&quot;</td></tr><tr><td>&quot;Vmware Stock I…</td><td>&quot;https://www.be…</td><td>&quot;20230821T12583…</td><td>[&quot;Anusuya Lahiri&quot;]</td><td>&quot;Vmware, Inc VM…</td><td>&quot;https://cdn.be…</td><td>&quot;Benzinga&quot;</td><td>&quot;Mergers&quot;</td><td>&quot;www.benzinga.c…</td><td>[{&quot;Economy - Monetary&quot;,&quot;0.158519&quot;}, {&quot;Financial Markets&quot;,&quot;0.316726&quot;}, … {&quot;Technology&quot;,&quot;0.5&quot;}]</td><td>0.215457</td><td>&quot;Somewhat-Bulli…</td><td>[{&quot;VMW&quot;,&quot;0.703273&quot;,&quot;0.435501&quot;,&quot;Bullish&quot;}, {&quot;AVGO&quot;,&quot;0.566143&quot;,&quot;0.454565&quot;,&quot;Bullish&quot;}]</td><td>&quot;20230821&quot;</td></tr></tbody></table></div>"
      ],
      "text/plain": [
       "shape: (13_888, 14)\n",
       "┌──────────────┬──────────────┬──────────────┬──────────────┬───┬──────────────┬──────────────┬─────────────┬──────────┐\n",
       "│ title        ┆ url          ┆ time_publish ┆ authors      ┆ … ┆ overall_sent ┆ overall_sent ┆ ticker_sent ┆ date     │\n",
       "│ ---          ┆ ---          ┆ ed           ┆ ---          ┆   ┆ iment_score  ┆ iment_label  ┆ iment       ┆ ---      │\n",
       "│ str          ┆ str          ┆ ---          ┆ list[str]    ┆   ┆ ---          ┆ ---          ┆ ---         ┆ str      │\n",
       "│              ┆              ┆ str          ┆              ┆   ┆ f64          ┆ str          ┆ list[struct ┆          │\n",
       "│              ┆              ┆              ┆              ┆   ┆              ┆              ┆ [4]]        ┆          │\n",
       "╞══════════════╪══════════════╪══════════════╪══════════════╪═══╪══════════════╪══════════════╪═════════════╪══════════╡\n",
       "│ Apple, AMC,  ┆ https://www. ┆ 20221231T190 ┆ [\"Michael    ┆ … ┆ -0.079733    ┆ Neutral      ┆ [{\"MSTR\",\"0 ┆ 20221231 │\n",
       "│ Meta, And    ┆ benzinga.com ┆ 310          ┆ Cohen\"]      ┆   ┆              ┆              ┆ .247838\",\"0 ┆          │\n",
       "│ How Elon M…  ┆ /news/la…    ┆              ┆              ┆   ┆              ┆              ┆ .0\",\"Neutr… ┆          │\n",
       "│ Bulls In A   ┆ https://www. ┆ 20221231T161 ┆ [\"Shanthi    ┆ … ┆ 0.064077     ┆ Neutral      ┆ [{\"AAPL\",\"0 ┆ 20221231 │\n",
       "│ Bear Market: ┆ benzinga.com ┆ 114          ┆ Rexaline\"]   ┆   ┆              ┆              ┆ .113776\",\"- ┆          │\n",
       "│ These 10…    ┆ /analyst…    ┆              ┆              ┆   ┆              ┆              ┆ 0.055435\",… ┆          │\n",
       "│ Where Will   ┆ https://www. ┆ 20221231T154 ┆ [\"Leo Sun\"]  ┆ … ┆ 0.202065     ┆ Somewhat-Bul ┆ [{\"U\",\"0.09 ┆ 20221231 │\n",
       "│ Unity        ┆ fool.com/inv ┆ 500          ┆              ┆   ┆              ┆ lish         ┆ 5517\",\"0.0\" ┆          │\n",
       "│ Software     ┆ esting/2…    ┆              ┆              ┆   ┆              ┆              ┆ ,\"Neutral\"… ┆          │\n",
       "│ Stock …      ┆              ┆              ┆              ┆   ┆              ┆              ┆             ┆          │\n",
       "│ 3            ┆ https://www. ┆ 20221231T140 ┆ [\"Dani       ┆ … ┆ 0.152163     ┆ Somewhat-Bul ┆ [{\"AMD\",\"0. ┆ 20221231 │\n",
       "│ Unstoppable  ┆ fool.com/inv ┆ 000          ┆ Cook\"]       ┆   ┆              ┆ lish         ┆ 223248\",\"0. ┆          │\n",
       "│ Growth       ┆ esting/2…    ┆              ┆              ┆   ┆              ┆              ┆ 034875\",\"N… ┆          │\n",
       "│ Stocks to B… ┆              ┆              ┆              ┆   ┆              ┆              ┆             ┆          │\n",
       "│ Even in an   ┆ https://www. ┆ 20221231T120 ┆ [\"Adam       ┆ … ┆ 0.151938     ┆ Somewhat-Bul ┆ [{\"GOOG\",\"0 ┆ 20221231 │\n",
       "│ Advertising  ┆ fool.com/inv ┆ 000          ┆ Levy\"]       ┆   ┆              ┆ lish         ┆ .243376\",\"0 ┆          │\n",
       "│ Slowdown,…   ┆ esting/2…    ┆              ┆              ┆   ┆              ┆              ┆ .076203\",\"… ┆          │\n",
       "│ …            ┆ …            ┆ …            ┆ …            ┆ … ┆ …            ┆ …            ┆ …           ┆ …        │\n",
       "│ Broadcom     ┆ https://www. ┆ 20230821T151 ┆ [\"Adam       ┆ … ┆ 0.339224     ┆ Somewhat-Bul ┆ [{\"VMW\",\"0. ┆ 20230821 │\n",
       "│ Stock Is     ┆ benzinga.com ┆ 745          ┆ Eckert\"]     ┆   ┆              ┆ lish         ┆ 640349\",\"0. ┆          │\n",
       "│ Climbing:    ┆ /m-a/23/…    ┆              ┆              ┆   ┆              ┆              ┆ 56118\",\"Bu… ┆          │\n",
       "│ What…        ┆              ┆              ┆              ┆   ┆              ┆              ┆             ┆          │\n",
       "│ Stock Market ┆ https://www. ┆ 20230821T145 ┆ [\"Investor's ┆ … ┆ 0.202316     ┆ Somewhat-Bul ┆ [{\"XPEV\",\"0 ┆ 20230821 │\n",
       "│ Mixed As     ┆ investors.co ┆ 000          ┆ Business     ┆   ┆              ┆ lish         ┆ .12645\",\"0. ┆          │\n",
       "│ Nasdaq Lea…  ┆ m/market…    ┆              ┆ Daily\", \"K…  ┆   ┆              ┆              ┆ 265697\",\"S… ┆          │\n",
       "│ Why These 2  ┆ https://www. ┆ 20230821T135 ┆ [\"Dan        ┆ … ┆ 0.333837     ┆ Somewhat-Bul ┆ [{\"VMW\",\"0. ┆ 20230821 │\n",
       "│ Tech Stocks  ┆ fool.com/inv ┆ 522          ┆ Caplinger\"]  ┆   ┆              ┆ lish         ┆ 293741\",\"0. ┆          │\n",
       "│ Are Lead…    ┆ esting/2…    ┆              ┆              ┆   ┆              ┆              ┆ 356722\",\"B… ┆          │\n",
       "│ VYM: Buy,    ┆ https://stoc ┆ 20230821T131 ┆ [\"StockNews. ┆ … ┆ 0.190463     ┆ Somewhat-Bul ┆ [{\"MCO\",\"0. ┆ 20230821 │\n",
       "│ Hold, or     ┆ knews.com/ne ┆ 148          ┆ com Staff\"]  ┆   ┆              ┆ lish         ┆ 042421\",\"-0 ┆          │\n",
       "│ Sell:        ┆ ws/vym-v…    ┆              ┆              ┆   ┆              ┆              ┆ .040987\",\"… ┆          │\n",
       "│ Vanguar…     ┆              ┆              ┆              ┆   ┆              ┆              ┆             ┆          │\n",
       "│ Vmware Stock ┆ https://www. ┆ 20230821T125 ┆ [\"Anusuya    ┆ … ┆ 0.215457     ┆ Somewhat-Bul ┆ [{\"VMW\",\"0. ┆ 20230821 │\n",
       "│ Is Trading   ┆ benzinga.com ┆ 839          ┆ Lahiri\"]     ┆   ┆              ┆ lish         ┆ 703273\",\"0. ┆          │\n",
       "│ Higher M…    ┆ /governm…    ┆              ┆              ┆   ┆              ┆              ┆ 435501\",\"B… ┆          │\n",
       "└──────────────┴──────────────┴──────────────┴──────────────┴───┴──────────────┴──────────────┴─────────────┴──────────┘"
      ]
     },
     "execution_count": 30,
     "metadata": {},
     "output_type": "execute_result"
    }
   ],
   "source": [
    "all_news_df"
   ]
  },
  {
   "cell_type": "code",
   "execution_count": 34,
   "id": "ec918396",
   "metadata": {},
   "outputs": [],
   "source": [
    "import json"
   ]
  },
  {
   "cell_type": "code",
   "execution_count": 43,
   "id": "91cc4bea",
   "metadata": {},
   "outputs": [],
   "source": [
    "import pandas as pd\n",
    "\n",
    "# Read the JSON data\n",
    "df = pd.read_json('2022_2023_data.json')"
   ]
  },
  {
   "cell_type": "code",
   "execution_count": 52,
   "id": "45ba5b1a",
   "metadata": {},
   "outputs": [
    {
     "data": {
      "text/html": [
       "<div>\n",
       "<style scoped>\n",
       "    .dataframe tbody tr th:only-of-type {\n",
       "        vertical-align: middle;\n",
       "    }\n",
       "\n",
       "    .dataframe tbody tr th {\n",
       "        vertical-align: top;\n",
       "    }\n",
       "\n",
       "    .dataframe thead th {\n",
       "        text-align: right;\n",
       "    }\n",
       "</style>\n",
       "<table border=\"1\" class=\"dataframe\">\n",
       "  <thead>\n",
       "    <tr style=\"text-align: right;\">\n",
       "      <th></th>\n",
       "      <th>columns</th>\n",
       "    </tr>\n",
       "  </thead>\n",
       "  <tbody>\n",
       "    <tr>\n",
       "      <th>0</th>\n",
       "      <td>{'name': 'title', 'datatype': 'String', 'bit_s...</td>\n",
       "    </tr>\n",
       "    <tr>\n",
       "      <th>1</th>\n",
       "      <td>{'name': 'url', 'datatype': 'String', 'bit_set...</td>\n",
       "    </tr>\n",
       "    <tr>\n",
       "      <th>2</th>\n",
       "      <td>{'name': 'time_published', 'datatype': 'String...</td>\n",
       "    </tr>\n",
       "    <tr>\n",
       "      <th>3</th>\n",
       "      <td>{'name': 'authors', 'datatype': {'List': 'Stri...</td>\n",
       "    </tr>\n",
       "    <tr>\n",
       "      <th>4</th>\n",
       "      <td>{'name': 'summary', 'datatype': 'String', 'bit...</td>\n",
       "    </tr>\n",
       "    <tr>\n",
       "      <th>5</th>\n",
       "      <td>{'name': 'banner_image', 'datatype': 'String',...</td>\n",
       "    </tr>\n",
       "    <tr>\n",
       "      <th>6</th>\n",
       "      <td>{'name': 'source', 'datatype': 'String', 'bit_...</td>\n",
       "    </tr>\n",
       "    <tr>\n",
       "      <th>7</th>\n",
       "      <td>{'name': 'category_within_source', 'datatype':...</td>\n",
       "    </tr>\n",
       "    <tr>\n",
       "      <th>8</th>\n",
       "      <td>{'name': 'source_domain', 'datatype': 'String'...</td>\n",
       "    </tr>\n",
       "    <tr>\n",
       "      <th>9</th>\n",
       "      <td>{'name': 'topics', 'datatype': {'List': {'Stru...</td>\n",
       "    </tr>\n",
       "    <tr>\n",
       "      <th>10</th>\n",
       "      <td>{'name': 'overall_sentiment_score', 'datatype'...</td>\n",
       "    </tr>\n",
       "    <tr>\n",
       "      <th>11</th>\n",
       "      <td>{'name': 'overall_sentiment_label', 'datatype'...</td>\n",
       "    </tr>\n",
       "    <tr>\n",
       "      <th>12</th>\n",
       "      <td>{'name': 'ticker_sentiment', 'datatype': {'Lis...</td>\n",
       "    </tr>\n",
       "    <tr>\n",
       "      <th>13</th>\n",
       "      <td>{'name': 'date', 'datatype': 'String', 'bit_se...</td>\n",
       "    </tr>\n",
       "  </tbody>\n",
       "</table>\n",
       "</div>"
      ],
      "text/plain": [
       "                                              columns\n",
       "0   {'name': 'title', 'datatype': 'String', 'bit_s...\n",
       "1   {'name': 'url', 'datatype': 'String', 'bit_set...\n",
       "2   {'name': 'time_published', 'datatype': 'String...\n",
       "3   {'name': 'authors', 'datatype': {'List': 'Stri...\n",
       "4   {'name': 'summary', 'datatype': 'String', 'bit...\n",
       "5   {'name': 'banner_image', 'datatype': 'String',...\n",
       "6   {'name': 'source', 'datatype': 'String', 'bit_...\n",
       "7   {'name': 'category_within_source', 'datatype':...\n",
       "8   {'name': 'source_domain', 'datatype': 'String'...\n",
       "9   {'name': 'topics', 'datatype': {'List': {'Stru...\n",
       "10  {'name': 'overall_sentiment_score', 'datatype'...\n",
       "11  {'name': 'overall_sentiment_label', 'datatype'...\n",
       "12  {'name': 'ticker_sentiment', 'datatype': {'Lis...\n",
       "13  {'name': 'date', 'datatype': 'String', 'bit_se..."
      ]
     },
     "execution_count": 52,
     "metadata": {},
     "output_type": "execute_result"
    }
   ],
   "source": [
    "df"
   ]
  },
  {
   "cell_type": "code",
   "execution_count": 53,
   "id": "a5fc1e88",
   "metadata": {},
   "outputs": [],
   "source": [
    "df = all_news_df.to_pandas()"
   ]
  },
  {
   "cell_type": "code",
   "execution_count": 55,
   "id": "b91c0e44",
   "metadata": {},
   "outputs": [
    {
     "data": {
      "text/plain": [
       "310"
      ]
     },
     "execution_count": 55,
     "metadata": {},
     "output_type": "execute_result"
    }
   ],
   "source": [
    "df['date'].nunique()"
   ]
  },
  {
   "cell_type": "code",
   "execution_count": 56,
   "id": "a86cf597",
   "metadata": {},
   "outputs": [],
   "source": [
    "df.to_csv('2022_2023_data.csv', index = False)"
   ]
  },
  {
   "cell_type": "code",
   "execution_count": null,
   "id": "1e6d0495",
   "metadata": {},
   "outputs": [],
   "source": []
  }
 ],
 "metadata": {
  "kernelspec": {
   "display_name": "Python 3 (ipykernel)",
   "language": "python",
   "name": "python3"
  },
  "language_info": {
   "codemirror_mode": {
    "name": "ipython",
    "version": 3
   },
   "file_extension": ".py",
   "mimetype": "text/x-python",
   "name": "python",
   "nbconvert_exporter": "python",
   "pygments_lexer": "ipython3",
   "version": "3.11.5"
  }
 },
 "nbformat": 4,
 "nbformat_minor": 5
}
