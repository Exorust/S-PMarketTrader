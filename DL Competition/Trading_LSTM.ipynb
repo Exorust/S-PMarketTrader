{
 "cells": [
  {
   "cell_type": "code",
   "execution_count": 80,
   "id": "d8283755",
   "metadata": {},
   "outputs": [
    {
     "name": "stderr",
     "output_type": "stream",
     "text": [
      "C:\\Users\\chand\\AppData\\Local\\Temp\\ipykernel_31472\\1688703694.py:12: FutureWarning: In a future version of pandas, parsing datetimes with mixed time zones will raise an error unless `utc=True`. Please specify `utc=True` to opt in to the new behaviour and silence this warning. To create a `Series` with mixed offsets and `object` dtype, please use `apply` and `datetime.datetime.strptime`\n",
      "  final_df['date'] = pd.to_datetime(final_df['date'])\n"
     ]
    }
   ],
   "source": [
    "import pandas as pd\n",
    "import numpy as np\n",
    "from sklearn.preprocessing import MinMaxScaler\n",
    "\n",
    "\n",
    "\n",
    "# Load your DataFrame here\n",
    "# final_df = pd.read_csv('10min_data_sentiment_type1.csv')  # Assuming data is loaded into final_df\n",
    "final_df = pd.read_csv('10mins_data.csv') \n",
    "\n",
    "# Convert index to datetime if necessary\n",
    "final_df['date'] = pd.to_datetime(final_df['date'])\n",
    "final_df.set_index('date', inplace=True)\n",
    "\n",
    "\n",
    "# Scale features\n",
    "scaler = MinMaxScaler(feature_range=(0, 1))\n",
    "close_prices = final_df['close'].values.reshape(-1,1)\n",
    "scaled_close_prices = scaler.fit_transform(close_prices)\n",
    "\n",
    "# Prepare dataset using only close prices\n",
    "def create_dataset(data, time_step=10):\n",
    "    x, y = [], []\n",
    "    for i in range(len(data) - time_step - 1):\n",
    "        a = data[i:(i + time_step), 0]  # Only close prices\n",
    "        x.append(a)\n",
    "        y.append(data[i + time_step, 0])  # Next close value\n",
    "    return np.array(x), np.array(y)\n",
    "\n",
    "time_step = 10\n",
    "X, y = create_dataset(scaled_close_prices, time_step)\n",
    "X = X.reshape(X.shape[0], X.shape[1], 1)  # Reshape for LSTM [samples, time steps, features]\n"
   ]
  },
  {
   "cell_type": "code",
   "execution_count": 81,
   "id": "2209aeb2",
   "metadata": {},
   "outputs": [
    {
     "data": {
      "text/plain": [
       "(12002, 10, 1)"
      ]
     },
     "execution_count": 81,
     "metadata": {},
     "output_type": "execute_result"
    }
   ],
   "source": [
    "X.shape"
   ]
  },
  {
   "cell_type": "code",
   "execution_count": 82,
   "id": "4146e12c",
   "metadata": {},
   "outputs": [
    {
     "name": "stderr",
     "output_type": "stream",
     "text": [
      "c:\\Users\\chand\\miniconda3\\envs\\resurgence\\lib\\site-packages\\torch\\nn\\modules\\loss.py:535: UserWarning: Using a target size (torch.Size([64])) that is different to the input size (torch.Size([64, 1])). This will likely lead to incorrect results due to broadcasting. Please ensure they have the same size.\n",
      "  return F.mse_loss(input, target, reduction=self.reduction)\n",
      "c:\\Users\\chand\\miniconda3\\envs\\resurgence\\lib\\site-packages\\torch\\nn\\modules\\loss.py:535: UserWarning: Using a target size (torch.Size([34])) that is different to the input size (torch.Size([34, 1])). This will likely lead to incorrect results due to broadcasting. Please ensure they have the same size.\n",
      "  return F.mse_loss(input, target, reduction=self.reduction)\n"
     ]
    },
    {
     "name": "stdout",
     "output_type": "stream",
     "text": [
      "Epoch [1/10], Loss: 0.0039\n",
      "Epoch [2/10], Loss: 0.0129\n",
      "Epoch [3/10], Loss: 0.0131\n",
      "Epoch [4/10], Loss: 0.0170\n",
      "Epoch [5/10], Loss: 0.0116\n",
      "Epoch [6/10], Loss: 0.0137\n",
      "Epoch [7/10], Loss: 0.0102\n",
      "Epoch [8/10], Loss: 0.0148\n",
      "Epoch [9/10], Loss: 0.0168\n",
      "Epoch [10/10], Loss: 0.0182\n"
     ]
    }
   ],
   "source": [
    "import torch\n",
    "import torch.nn as nn\n",
    "import torch.optim as optim\n",
    "\n",
    "# Define the LSTM model class\n",
    "class LSTMModel(nn.Module):\n",
    "    def __init__(self, input_dim, hidden_dim, output_dim):\n",
    "        super(LSTMModel, self).__init__()\n",
    "        self.hidden_dim = hidden_dim\n",
    "        \n",
    "        # Define LSTM layer\n",
    "        self.lstm1 = nn.LSTM(input_dim, hidden_dim, batch_first=True)\n",
    "        self.lstm2 = nn.LSTM(hidden_dim, hidden_dim, batch_first=True)\n",
    "        \n",
    "        # Define output layer\n",
    "        self.linear1 = nn.Linear(hidden_dim, 25)\n",
    "        self.linear2 = nn.Linear(25, output_dim)\n",
    "\n",
    "    def forward(self, x):\n",
    "        # Forward pass through LSTM layer\n",
    "        # shape of x: (batch_size, seq_length, input_dim)\n",
    "        x, _ = self.lstm1(x)\n",
    "        x, _ = self.lstm2(x)\n",
    "        \n",
    "        # Only take the output from the final timestep\n",
    "        x = x[:, -1, :]\n",
    "        \n",
    "        # Pass the output of LSTM to a Fully Connected layer\n",
    "        x = torch.relu(self.linear1(x))\n",
    "        x = self.linear2(x)\n",
    "        return x\n",
    "\n",
    "# Hyperparameters\n",
    "input_dim = 1   # Input dimension of each time step\n",
    "hidden_dim = 50 # Hidden layer dimension\n",
    "output_dim = 1  # Output dimension\n",
    "time_step = 10  # Number of time steps (length of the sequence)\n",
    "\n",
    "# Instantiate the model\n",
    "device = torch.device('cuda' if torch.cuda.is_available() else 'cpu')\n",
    "model = LSTMModel(input_dim, hidden_dim, output_dim).to(device)\n",
    "\n",
    "# Loss and optimizer\n",
    "criterion = nn.MSELoss()\n",
    "optimizer = optim.Adam(model.parameters(), lr=0.001)\n",
    "\n",
    "X = torch.from_numpy(X).float()  # Convert and change datatype to float\n",
    "y = torch.from_numpy(y).float()\n",
    "\n",
    "# If using a GPU, move tensors to GPU\n",
    "X = X.to(device)\n",
    "y = y.to(device)\n",
    "\n",
    "# Training the model\n",
    "num_epochs = 10\n",
    "batch_size = 64\n",
    "\n",
    "for epoch in range(num_epochs):\n",
    "    for i in range(0, len(X), batch_size):\n",
    "        # Get the mini-batch\n",
    "        X_batch = X[i:i+batch_size]\n",
    "        y_batch = y[i:i+batch_size]\n",
    "\n",
    "        # Forward pass\n",
    "        outputs = model(X_batch)\n",
    "        loss = criterion(outputs, y_batch)\n",
    "\n",
    "        # Backward and optimize\n",
    "        optimizer.zero_grad()\n",
    "        loss.backward()\n",
    "        optimizer.step()\n",
    "\n",
    "    print(f'Epoch [{epoch+1}/{num_epochs}], Loss: {loss.item():.4f}')\n",
    "\n"
   ]
  },
  {
   "cell_type": "code",
   "execution_count": 83,
   "id": "150d3969",
   "metadata": {},
   "outputs": [],
   "source": [
    "# Generate predictions\n",
    "model.eval()\n",
    "\n",
    "# Generate predictions\n",
    "with torch.no_grad():\n",
    "    X = X.to(device)  # Ensure X is on the correct device\n",
    "    predicted_tensor = model(X)\n",
    "\n",
    "# Convert predictions back to numpy array\n",
    "predicted_numpy = predicted_tensor.cpu().numpy()\n",
    "\n",
    "# Rescale the predictions to original scale\n",
    "predicted_prices = scaler.inverse_transform(predicted_numpy) #Correct shape for inverse transformation\n",
    "\n",
    "# Incorporate predictions into DataFrame\n",
    "trades = pd.DataFrame(index=final_df.index[time_step+1:])\n",
    "trades['Predicted'] = predicted_prices.ravel()  # Flatten array\n",
    "trades['Actual'] = final_df['close'][time_step+1:]\n",
    "\n",
    "trades['Signal'] = 0\n",
    "trades['Signal'] = np.where(trades['Predicted'] > trades['Actual'].shift(), 1, -1)\n"
   ]
  },
  {
   "cell_type": "code",
   "execution_count": 84,
   "id": "7a39e218",
   "metadata": {},
   "outputs": [
    {
     "data": {
      "image/png": "[encoded data removed]",
      "text/plain": [
       "<Figure size 1000x500 with 1 Axes>"
      ]
     },
     "metadata": {},
     "output_type": "display_data"
    }
   ],
   "source": [
    "# Calculate returns\n",
    "trades['Returns'] = trades['Actual'].pct_change()\n",
    "trades['Strategy'] = trades['Signal'].shift() * trades['Returns']\n",
    "\n",
    "# Calculate cumulative returns\n",
    "trades['Cumulative Strategy Returns'] = (1 + trades['Strategy']).cumprod()\n",
    "trades['Cumulative Market Returns'] = (1 + trades['Returns']).cumprod()\n",
    "\n",
    "# Plotting\n",
    "import matplotlib.pyplot as plt\n",
    "plt.figure(figsize=(10,5))\n",
    "plt.plot(trades['Cumulative Market Returns'], label='Market Returns')\n",
    "plt.plot(trades['Cumulative Strategy Returns'], label='Strategy Returns')\n",
    "plt.legend()\n",
    "plt.show()\n"
   ]
  },
  {
   "cell_type": "code",
   "execution_count": 85,
   "id": "bb022c99",
   "metadata": {},
   "outputs": [
    {
     "name": "stdout",
     "output_type": "stream",
     "text": [
      "Mean Squared Error: 69096.01269803324\n",
      "Mean Absolute Error: 218.0165078281224\n",
      "Root Mean Squared Error: 262.86120424671503\n"
     ]
    }
   ],
   "source": [
    "from sklearn.metrics import mean_squared_error, mean_absolute_error\n",
    "\n",
    "# Assume 'predicted_prices' and 'trades' are already defined from previous steps\n",
    "\n",
    "# Calculate error metrics\n",
    "mse = mean_squared_error(trades['Actual'], trades['Predicted'])\n",
    "mae = mean_absolute_error(trades['Actual'], trades['Predicted'])\n",
    "rmse = np.sqrt(mse)  # Root Mean Squared Error\n",
    "\n",
    "print(\"Mean Squared Error:\", mse)\n",
    "print(\"Mean Absolute Error:\", mae)\n",
    "print(\"Root Mean Squared Error:\", rmse)\n"
   ]
  },
  {
   "cell_type": "code",
   "execution_count": 86,
   "id": "971cdaea",
   "metadata": {},
   "outputs": [
    {
     "name": "stdout",
     "output_type": "stream",
     "text": [
      "Mean Absolute Percentage Error (MAPE): 4.6781409210515426\n",
      "Median Absolute Percentage Error (MdAPE): 3.959181578260959\n"
     ]
    }
   ],
   "source": [
    "import numpy as np\n",
    "\n",
    "# Calculate MAPE and MdAPE\n",
    "def mean_absolute_percentage_error(y_true, y_pred): \n",
    "    y_true, y_pred = np.array(y_true), np.array(y_pred)\n",
    "    return np.mean(np.abs((y_true - y_pred) / y_true)) * 100\n",
    "\n",
    "def median_absolute_percentage_error(y_true, y_pred):\n",
    "    y_true, y_pred = np.array(y_true), np.array(y_pred)\n",
    "    return np.median(np.abs((y_true - y_pred) / y_true)) * 100\n",
    "\n",
    "# Calculate error metrics including MAPE and MdAPE\n",
    "mape = mean_absolute_percentage_error(trades['Actual'], trades['Predicted'])\n",
    "mdape = median_absolute_percentage_error(trades['Actual'], trades['Predicted'])\n",
    "\n",
    "print(\"Mean Absolute Percentage Error (MAPE):\", mape)\n",
    "print(\"Median Absolute Percentage Error (MdAPE):\", mdape)"
   ]
  },
  {
   "cell_type": "code",
   "execution_count": null,
   "id": "72f3248c",
   "metadata": {},
   "outputs": [],
   "source": []
  }
 ],
 "metadata": {
  "kernelspec": {
   "display_name": "Python 3 (ipykernel)",
   "language": "python",
   "name": "python3"
  },
  "language_info": {
   "codemirror_mode": {
    "name": "ipython",
    "version": 3
   },
   "file_extension": ".py",
   "mimetype": "text/x-python",
   "name": "python",
   "nbconvert_exporter": "python",
   "pygments_lexer": "ipython3",
   "version": "3.10.14"
  }
 },
 "nbformat": 4,
 "nbformat_minor": 5
}
